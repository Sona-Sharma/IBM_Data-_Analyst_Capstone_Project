{
 "cells": [
  {
   "cell_type": "markdown",
   "metadata": {},
   "source": [
    "<p style=\"text-align:center\">\n",
    "    <a href=\"https://skills.network/?utm_medium=Exinfluencer&utm_source=Exinfluencer&utm_content=000026UJ&utm_term=10006555&utm_id=NA-SkillsNetwork-Channel-SkillsNetworkCoursesIBMDA0321ENSkillsNetwork21426264-2022-01-01\" target=\"_blank\">\n",
    "    <img src=\"https://cf-courses-data.s3.us.cloud-object-storage.appdomain.cloud/assets/logos/SN_web_lightmode.png\" width=\"200\" alt=\"Skills Network Logo\"  />\n",
    "    </a>\n",
    "</p>\n"
   ]
  },
  {
   "cell_type": "markdown",
   "metadata": {},
   "source": [
    "# **JOBS API Implementation Using FLASK**\n"
   ]
  },
  {
   "cell_type": "markdown",
   "metadata": {},
   "source": [
    "Estimated time needed: **45 to 60** minutes\n"
   ]
  },
  {
   "cell_type": "markdown",
   "metadata": {},
   "source": [
    "## Objectives\n",
    "\n",
    "You will be executing this code  so that the client application **Collecting Jobs API**  will be accessing this code executing on the server\n"
   ]
  },
  {
   "cell_type": "code",
   "execution_count": 1,
   "metadata": {},
   "outputs": [
    {
     "name": "stdout",
     "output_type": "stream",
     "text": [
      "Requirement already satisfied: flask in /home/jupyterlab/conda/envs/python/lib/python3.7/site-packages (2.1.2)\n",
      "Requirement already satisfied: importlib-metadata>=3.6.0 in /home/jupyterlab/conda/envs/python/lib/python3.7/site-packages (from flask) (4.11.4)\n",
      "Requirement already satisfied: Jinja2>=3.0 in /home/jupyterlab/conda/envs/python/lib/python3.7/site-packages (from flask) (3.1.2)\n",
      "Requirement already satisfied: click>=8.0 in /home/jupyterlab/conda/envs/python/lib/python3.7/site-packages (from flask) (8.1.3)\n",
      "Requirement already satisfied: itsdangerous>=2.0 in /home/jupyterlab/conda/envs/python/lib/python3.7/site-packages (from flask) (2.1.2)\n",
      "Requirement already satisfied: Werkzeug>=2.0 in /home/jupyterlab/conda/envs/python/lib/python3.7/site-packages (from flask) (2.1.2)\n",
      "Requirement already satisfied: typing-extensions>=3.6.4 in /home/jupyterlab/conda/envs/python/lib/python3.7/site-packages (from importlib-metadata>=3.6.0->flask) (4.3.0)\n",
      "Requirement already satisfied: zipp>=0.5 in /home/jupyterlab/conda/envs/python/lib/python3.7/site-packages (from importlib-metadata>=3.6.0->flask) (3.8.0)\n",
      "Requirement already satisfied: MarkupSafe>=2.0 in /home/jupyterlab/conda/envs/python/lib/python3.7/site-packages (from Jinja2>=3.0->flask) (2.1.1)\n"
     ]
    }
   ],
   "source": [
    "!pip install flask"
   ]
  },
  {
   "cell_type": "markdown",
   "metadata": {},
   "source": [
    "## Dataset Used in this Assignment\n",
    "\n",
    "The dataset used in this lab comes from the following source: [https://www.kaggle.com/promptcloud/jobs-on-naukricom](https://www.kaggle.com/promptcloud/jobs-on-naukricom?utm_medium=Exinfluencer&utm_source=Exinfluencer&utm_content=000026UJ&utm_term=10006555&utm_id=NA-SkillsNetwork-Channel-SkillsNetworkCoursesIBMDA0321ENSkillsNetwork21426264-2022-01-01) under the under a **Public Domain license**.\n",
    "\n",
    "> Note: We are using a modified subset of that dataset for the lab, so to follow the lab instructions successfully please use the dataset provided with the lab, rather than the dataset from the original source.\n",
    "\n",
    "The original dataset is a csv. We have converted the csv to json as per the requirement of the lab.\n"
   ]
  },
  {
   "cell_type": "code",
   "execution_count": 2,
   "metadata": {},
   "outputs": [
    {
     "name": "stdout",
     "output_type": "stream",
     "text": [
      "--2022-07-22 07:45:06--  https://cf-courses-data.s3.us.cloud-object-storage.appdomain.cloud/IBM-DA0321EN-SkillsNetwork/labs/module%201/Accessing%20Data%20Using%20APIs/jobs.json\n",
      "Resolving cf-courses-data.s3.us.cloud-object-storage.appdomain.cloud (cf-courses-data.s3.us.cloud-object-storage.appdomain.cloud)... 169.63.118.104\n",
      "Connecting to cf-courses-data.s3.us.cloud-object-storage.appdomain.cloud (cf-courses-data.s3.us.cloud-object-storage.appdomain.cloud)|169.63.118.104|:443... connected.\n",
      "HTTP request sent, awaiting response... 200 OK\n",
      "Length: 12878382 (12M) [application/json]\n",
      "Saving to: ‘jobs.json’\n",
      "\n",
      "jobs.json           100%[===================>]  12.28M  35.9MB/s    in 0.3s    \n",
      "\n",
      "2022-07-22 07:45:07 (35.9 MB/s) - ‘jobs.json’ saved [12878382/12878382]\n",
      "\n"
     ]
    }
   ],
   "source": [
    "!wget  https://cf-courses-data.s3.us.cloud-object-storage.appdomain.cloud/IBM-DA0321EN-SkillsNetwork/labs/module%201/Accessing%20Data%20Using%20APIs/jobs.json"
   ]
  },
  {
   "cell_type": "code",
   "execution_count": null,
   "metadata": {},
   "outputs": [
    {
     "name": "stdout",
     "output_type": "stream",
     "text": [
      " * Serving Flask app '__main__' (lazy loading)\n",
      " * Environment: production\n",
      "\u001b[31m   WARNING: This is a development server. Do not use it in a production deployment.\u001b[0m\n",
      "\u001b[2m   Use a production WSGI server instead.\u001b[0m\n",
      " * Debug mode: off\n"
     ]
    },
    {
     "name": "stderr",
     "output_type": "stream",
     "text": [
      " * Running on http://127.0.0.1:5000 (Press CTRL+C to quit)\n"
     ]
    }
   ],
   "source": [
    "import flask\n",
    "from flask import request, jsonify\n",
    "import requests\n",
    "import re\n",
    "\n",
    "def get_data(key,value,current):\n",
    "    results = list()\n",
    "    pattern_dict = {\n",
    "        'C'      : '(C)',\n",
    "        'C++'    : '(C\\+\\+)',\n",
    "        'Java'   :'(Java)',\n",
    "        'C#'     : '(C\\#)',\n",
    "        'Python' :'(Python)',\n",
    "        'Scala' : '(Scala)',\n",
    "        'Oracle' : '(Oracle)',\n",
    "        'SQL Server': '(SQL Server)',\n",
    "        'MySQL Server' :'(MySQL Server)',\n",
    "        'PostgreSQL':'(PostgreSQL)',\n",
    "        'MongoDB'    : '(MongoDB)',\n",
    "        'JavaScript'    : '(JavaScript)',\n",
    "        'Los Angeles' :'(Los Angeles)',\n",
    "        'New York':'(New York)',\n",
    "        'San Francisco':'(San Francisco)',\n",
    "        'Washington DC':'(Washington DC)',\n",
    "        'Seattle':'(Seattle)',\n",
    "        'Austin':'(Austin)',\n",
    "        'Detroit':'(Detroit)',\n",
    "        \n",
    "        \n",
    "        \n",
    "        \n",
    "        \n",
    "    }\n",
    "    for rec in current:\n",
    "        print(rec[key])\n",
    "        print(type(rec[key]))\n",
    "        print(rec[key].find(value))\n",
    "        #if rec[key].find(value) != -1:\n",
    "        import re\n",
    "        #reex_str = \"\"\"(C)|(C\\+\\+)|(JavaScript)|(Java)|(C\\#)|(Python)|(Scala)|(Oracle)|(SQL Server)|(MySQL Server)|(PostgreSQL)|(MongoDB)\"\"\"\n",
    "        if re.search(pattern_dict[value],rec[key]) != None:\n",
    "            results.append(rec)\n",
    "    return results\n",
    "\n",
    "app = flask.Flask(__name__)\n",
    "\n",
    "import json\n",
    "data = None\n",
    "with open('jobs.json',encoding='utf-8') as f:\n",
    "    # returns JSON object as\n",
    "    # a dictionary\n",
    "    data = json.load(f)\n",
    "    \n",
    "    \n",
    "\n",
    "@app.route('/', methods=['GET'])\n",
    "def home():\n",
    "    \n",
    "    return '''<h1>Welcome to flask JOB search API</p>'''\n",
    "\n",
    "\n",
    "@app.route('/data/all', methods=['GET'])\n",
    "def api_all():\n",
    "    return jsonify(data)\n",
    "\n",
    "\n",
    "@app.route('/data', methods=['GET'])\n",
    "def api_id():\n",
    "    # Check if keys such as Job Title,KeySkills, Role Category and others  are provided as part of the URL.\n",
    "    #  Assign the keys to the corresponding variables..\n",
    "    # If no key is provided, display an error in the browser.\n",
    "    res = None\n",
    "    for req in request.args:\n",
    "        \n",
    "        if req == 'Job Title':\n",
    "            key = 'Job Title'\n",
    "        elif req == 'Job Experience Required' :\n",
    "            key='Job Experience Required'\n",
    "        elif req == 'Key Skills' :\n",
    "            key='Key Skills'\n",
    "            \n",
    "        elif req == 'Role Category' :\n",
    "            key='Role Category'\n",
    "        elif req == 'Location' :\n",
    "            key='Location'\n",
    "        \n",
    "        elif req == 'Functional Area' :\n",
    "            key='Functional Area'\n",
    "        \n",
    "        elif req == 'Industry' :\n",
    "            key='Industry'\n",
    "        elif req == 'Role' :\n",
    "            key='Role'\n",
    "        elif req==\"id\":\n",
    "             key=\"id\"\n",
    "        else:\n",
    "            pass\n",
    "    \n",
    "        value = request.args[key]\n",
    "        if (res==None):\n",
    "            res = get_data(key,value,data)\n",
    "        else:\n",
    "            res = get_data(key,value,res)\n",
    "\n",
    "    # Use the jsonify function from Flask to convert our list of\n",
    "    # Python dictionaries to the JSON format.\n",
    "    return jsonify(res)\n",
    "\n",
    "app.run()"
   ]
  },
  {
   "cell_type": "markdown",
   "metadata": {},
   "source": [
    "## Authors\n"
   ]
  },
  {
   "cell_type": "markdown",
   "metadata": {},
   "source": [
    "Lakshmi Holla\n"
   ]
  },
  {
   "cell_type": "markdown",
   "metadata": {},
   "source": [
    "### Other Contributors\n"
   ]
  },
  {
   "cell_type": "markdown",
   "metadata": {},
   "source": [
    "Malika Singla\\\n",
    "Ayushi Jain\n"
   ]
  },
  {
   "cell_type": "markdown",
   "metadata": {},
   "source": [
    "## Changelog\n"
   ]
  },
  {
   "cell_type": "markdown",
   "metadata": {},
   "source": [
    "| Date (YYYY-MM-DD) | Version | Changed By    | Change Description      |\n",
    "| ----------------- | ------- | ------------- | ----------------------- |\n",
    "| 2022-01-03        | 0.1     | Lakshmi Holla | Created Initial Version |\n"
   ]
  },
  {
   "cell_type": "markdown",
   "metadata": {},
   "source": [
    "Copyright © 2022 IBM Corporation. This notebook and its source code are released under the terms of the [MIT License](https://cognitiveclass.ai/mit-license?utm_medium=Exinfluencer&utm_source=Exinfluencer&utm_content=000026UJ&utm_term=10006555&utm_id=NA-SkillsNetwork-Channel-SkillsNetworkCoursesIBMDA0321ENSkillsNetwork21426264-2021-01-01&cm_mmc=Email_Newsletter-\\_-Developer_Ed%2BTech-\\_-WW_WW-\\_-SkillsNetwork-Courses-IBM-DA0321EN-SkillsNetwork-21426264&cm_mmca1=000026UJ&cm_mmca2=10006555&cm_mmca3=M12345678&cvosrc=email.Newsletter.M12345678&cvo_campaign=000026UJ).\n"
   ]
  }
 ],
 "metadata": {
  "kernelspec": {
   "display_name": "Python 3",
   "language": "python",
   "name": "python3"
  },
  "language_info": {
   "codemirror_mode": {
    "name": "ipython",
    "version": 3
   },
   "file_extension": ".py",
   "mimetype": "text/x-python",
   "name": "python",
   "nbconvert_exporter": "python",
   "pygments_lexer": "ipython3",
   "version": "3.7.6"
  }
 },
 "nbformat": 4,
 "nbformat_minor": 5
}
